{
  "nbformat": 4,
  "nbformat_minor": 0,
  "metadata": {
    "colab": {
      "provenance": []
    },
    "kernelspec": {
      "name": "python3",
      "display_name": "Python 3"
    },
    "language_info": {
      "name": "python"
    }
  },
  "cells": [
    {
      "cell_type": "code",
      "execution_count": null,
      "metadata": {
        "id": "GoEC6gO4j2v7"
      },
      "outputs": [],
      "source": []
    },
    {
      "cell_type": "markdown",
      "source": [
        "## 🧠 Natural Language to SQL Converter using Groq API\n",
        "\n",
        "This notebook demonstrates how to convert Natural Language (NL) queries into SQL using the **Groq API** and the **LLaMA3-70B model**.\n",
        "\n",
        "### 🔍 Objective\n",
        "Build an interface that accepts natural language input and returns SQL queries using a large language model (LLM). This supports rapid query generation without needing users to know SQL syntax.\n",
        "\n",
        "---\n",
        "\n",
        "### **🚀 Key Features**\n",
        "- Uses the **Groq API** to access the LLaMA3-70B model\n",
        "- Supports live NL-to-SQL query conversion\n",
        "- Can be deployed via Hugging Face or run locally\n"
      ],
      "metadata": {
        "id": "DP7WU3aCI3a4"
      }
    },
    {
      "cell_type": "code",
      "source": [
        "# Install required packages\n",
        "!pip install groq pandas numpy scikit-learn gradio --quiet"
      ],
      "metadata": {
        "colab": {
          "base_uri": "https://localhost:8080/"
        },
        "id": "UWAer6SQkdOY",
        "outputId": "339cc4e4-ffe1-4239-d81e-23d51d7335bd"
      },
      "execution_count": null,
      "outputs": [
        {
          "output_type": "stream",
          "name": "stdout",
          "text": [
            "\u001b[2K   \u001b[90m━━━━━━━━━━━━━━━━━━━━━━━━━━━━━━━━━━━━━━━━\u001b[0m \u001b[32m129.4/129.4 kB\u001b[0m \u001b[31m8.5 MB/s\u001b[0m eta \u001b[36m0:00:00\u001b[0m\n",
            "\u001b[2K   \u001b[90m━━━━━━━━━━━━━━━━━━━━━━━━━━━━━━━━━━━━━━━━\u001b[0m \u001b[32m54.2/54.2 MB\u001b[0m \u001b[31m18.7 MB/s\u001b[0m eta \u001b[36m0:00:00\u001b[0m\n",
            "\u001b[2K   \u001b[90m━━━━━━━━━━━━━━━━━━━━━━━━━━━━━━━━━━━━━━━━\u001b[0m \u001b[32m323.1/323.1 kB\u001b[0m \u001b[31m29.4 MB/s\u001b[0m eta \u001b[36m0:00:00\u001b[0m\n",
            "\u001b[2K   \u001b[90m━━━━━━━━━━━━━━━━━━━━━━━━━━━━━━━━━━━━━━━━\u001b[0m \u001b[32m95.2/95.2 kB\u001b[0m \u001b[31m9.0 MB/s\u001b[0m eta \u001b[36m0:00:00\u001b[0m\n",
            "\u001b[2K   \u001b[90m━━━━━━━━━━━━━━━━━━━━━━━━━━━━━━━━━━━━━━━━\u001b[0m \u001b[32m11.5/11.5 MB\u001b[0m \u001b[31m116.5 MB/s\u001b[0m eta \u001b[36m0:00:00\u001b[0m\n",
            "\u001b[2K   \u001b[90m━━━━━━━━━━━━━━━━━━━━━━━━━━━━━━━━━━━━━━━━\u001b[0m \u001b[32m72.0/72.0 kB\u001b[0m \u001b[31m6.4 MB/s\u001b[0m eta \u001b[36m0:00:00\u001b[0m\n",
            "\u001b[2K   \u001b[90m━━━━━━━━━━━━━━━━━━━━━━━━━━━━━━━━━━━━━━━━\u001b[0m \u001b[32m62.5/62.5 kB\u001b[0m \u001b[31m6.0 MB/s\u001b[0m eta \u001b[36m0:00:00\u001b[0m\n",
            "\u001b[?25h"
          ]
        }
      ]
    },
    {
      "cell_type": "markdown",
      "source": [
        "# 🔑 API Key Cell\n",
        "# 🔐 Set Your Groq API Key\n",
        "Ensure you have a valid [Groq API key](https://console.groq.com/) to use the LLaMA3-70B model."
      ],
      "metadata": {
        "id": "4Z8lwlzEJIgJ"
      }
    },
    {
      "cell_type": "code",
      "source": [
        "import os\n",
        "\n",
        "# 🔐 Set your Groq API Key here\n",
        "os.environ['GROQ_API_KEY'] = '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'  # <-- Replace this with your real key\n",
        "\n",
        "# 🚀 Initialization Message\n",
        "print(\"🚀 Initializing NL2SQL Application with Groq API...\")\n",
        "\n",
        "# ⚠️ Red-colored warning if API key is not found\n",
        "if not os.environ.get('GROQ_API_KEY'):\n",
        "    print(\"\\033[91m⚠️  WARNING: GROQ_API_KEY environment variable not set!\\033[0m\")\n",
        "    print(\"\\033[91mPlease set your Groq API key: export GROQ_API_KEY='your_key_here'\\033[0m\")\n",
        "else:\n",
        "    print(\"✅ API Key found. Ready to use Groq API.\")\n",
        "\n",
        "# -------------------------------------------------\n",
        "# 🧠 Your NL2SQL Application logic starts below\n",
        "# -------------------------------------------------\n",
        "\n",
        "# Example: How you might use the key (pseudo-code)\n",
        "api_key = os.environ['GROQ_API_KEY']\n",
        "\n",
        "# Example Function\n",
        "def query_groq_nl2sql(natural_language_query):\n",
        "    # Replace with actual Groq API call code\n",
        "    print(f\"🧠 Processing your query using Groq: \\\"{natural_language_query}\\\"\")\n",
        "    # Dummy SQL Output\n",
        "    sql_output = f\"SELECT * FROM users WHERE name = 'John';\"\n",
        "    return sql_output\n",
        "\n",
        "# Example usage\n",
        "user_input = \"Show me all users named John\"\n",
        "sql_query = query_groq_nl2sql(user_input)\n",
        "print(\"🧾 Generated SQL Query:\")\n",
        "print(sql_query)\n"
      ],
      "metadata": {
        "colab": {
          "base_uri": "https://localhost:8080/"
        },
        "id": "DOezzduOkdU-",
        "outputId": "77e13424-43b0-47ca-dd7b-6a90e493e2ef"
      },
      "execution_count": null,
      "outputs": [
        {
          "output_type": "stream",
          "name": "stdout",
          "text": [
            "🚀 Initializing NL2SQL Application with Groq API...\n",
            "✅ API Key found. Ready to use Groq API.\n",
            "🧠 Processing your query using Groq: \"Show me all users named John\"\n",
            "🧾 Generated SQL Query:\n",
            "SELECT * FROM users WHERE name = 'John';\n"
          ]
        }
      ]
    },
    {
      "cell_type": "markdown",
      "source": [
        "## 💻 Full App: Natural Language to SQL Converter using Groq API\n",
        "\n",
        "This cell integrates all the components:\n",
        "- Groq API for LLaMA3-70B model-based text-to-SQL conversion\n",
        "- SQLite for query execution on an employee dataset\n",
        "- Gradio for an interactive web UI"
      ],
      "metadata": {
        "id": "LUECv-SulYe-"
      }
    },
    {
      "cell_type": "code",
      "source": [
        "# -*- coding: utf-8 -*-\n",
        "\"\"\"GR SQL App Full with Groq API Integration\"\"\"\n",
        "\n",
        "import os\n",
        "import pandas as pd\n",
        "import sqlite3\n",
        "import numpy as np\n",
        "import json\n",
        "import re\n",
        "from typing import List, Dict, Tuple\n",
        "from groq import Groq\n",
        "import gradio as gr\n",
        "from sklearn.metrics import accuracy_score\n",
        "import warnings\n",
        "warnings.filterwarnings('ignore')\n",
        "\n",
        "# ------------------------------\n",
        "# ✅ STEP 1: INSERT GROQ API KEY HERE\n",
        "# ------------------------------\n",
        "os.environ[\"GROQ_API_KEY\"] = \"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\"  # 🔴 <--- INSERT API KEY HERE\n",
        "\n",
        "# ------------------------------\n",
        "# SQL Converter Using Groq API\n",
        "# ------------------------------\n",
        "\n",
        "class EnhancedNL2SQLConverter:\n",
        "    def __init__(self, model_name: str = \"llama3-70b-8192\"):\n",
        "        self.client = Groq(api_key=os.environ.get(\"GROQ_API_KEY\"))\n",
        "        self.model_name = model_name\n",
        "        print(f\"Using Groq API with model: {self.model_name}\")\n",
        "\n",
        "        self.default_schema = \"\"\"\n",
        "        Table: employees\n",
        "        Columns:\n",
        "        - id (INTEGER) PRIMARY KEY\n",
        "        - name (TEXT) NOT NULL\n",
        "        - department (TEXT)\n",
        "        - salary (REAL)\n",
        "        - hire_date (TEXT)\n",
        "        - manager_id (INTEGER)\n",
        "        \"\"\"\n",
        "\n",
        "    def generate_sql(self, query: str, schema: str = None) -> str:\n",
        "        try:\n",
        "            schema_to_use = schema or self.default_schema\n",
        "\n",
        "            system_prompt = \"\"\"You are an expert SQL query generator. Convert natural language questions to SQL queries based on the provided database schema.\n",
        "\n",
        "Rules:\n",
        "1. Only return the SQL query, nothing else\n",
        "2. Use proper SQL syntax\n",
        "3. Be precise with column names and table names\n",
        "4. Use appropriate WHERE clauses, JOINs, and aggregations as needed\n",
        "5. For date comparisons, use proper date format\n",
        "6. Don't include explanations, just the SQL query\"\"\"\n",
        "\n",
        "            user_prompt = f\"\"\"Database Schema:\n",
        "{schema_to_use}\n",
        "\n",
        "Natural Language Question: {query}\n",
        "\n",
        "Generate the SQL query:\"\"\"\n",
        "\n",
        "            chat_completion = self.client.chat.completions.create(\n",
        "                messages=[\n",
        "                    {\"role\": \"system\", \"content\": system_prompt},\n",
        "                    {\"role\": \"user\", \"content\": user_prompt}\n",
        "                ],\n",
        "                model=self.model_name,\n",
        "                temperature=0.1,\n",
        "                max_tokens=200\n",
        "            )\n",
        "\n",
        "            sql_query = chat_completion.choices[0].message.content.strip()\n",
        "            return self._clean_sql(sql_query)\n",
        "\n",
        "        except Exception as e:\n",
        "            print(f\"Error generating SQL: {str(e)}\")\n",
        "            return \"ERROR: Could not generate SQL query\"\n",
        "\n",
        "    def _clean_sql(self, sql: str) -> str:\n",
        "        sql = sql.strip()\n",
        "        sql = re.sub(r'```sql\\n?', '', sql)\n",
        "        sql = re.sub(r'```\\n?', '', sql)\n",
        "        sql = re.sub(r'^[\"\\']|[\"\\']$', '', sql)\n",
        "        sql = sql.rstrip(';')\n",
        "\n",
        "        sql_keywords = ['SELECT', 'INSERT', 'UPDATE', 'DELETE', 'CREATE', 'DROP', 'ALTER']\n",
        "        if not any(sql.upper().startswith(keyword) for keyword in sql_keywords):\n",
        "            for keyword in sql_keywords:\n",
        "                if keyword in sql.upper():\n",
        "                    sql = sql[sql.upper().find(keyword):]\n",
        "                    break\n",
        "        return sql\n",
        "\n",
        "# ------------------------------\n",
        "# SQL Evaluator & Test Database\n",
        "# ------------------------------\n",
        "\n",
        "class SQLEvaluator:\n",
        "    def __init__(self):\n",
        "        self.db_path = \"test_database.db\"\n",
        "        self.setup_test_database()\n",
        "\n",
        "    def setup_test_database(self):\n",
        "        conn = sqlite3.connect(self.db_path)\n",
        "        cursor = conn.cursor()\n",
        "        cursor.execute('''\n",
        "        CREATE TABLE IF NOT EXISTS employees (\n",
        "            id INTEGER PRIMARY KEY,\n",
        "            name TEXT NOT NULL,\n",
        "            department TEXT,\n",
        "            salary REAL,\n",
        "            hire_date TEXT,\n",
        "            manager_id INTEGER\n",
        "        )''')\n",
        "        sample_data = [\n",
        "            (1, 'Alice Johnson', 'Engineering', 75000, '2022-01-15', None),\n",
        "            (2, 'Bob Smith', 'Sales', 65000, '2021-06-20', None),\n",
        "            (3, 'Charlie Brown', 'Engineering', 80000, '2020-03-10', 1),\n",
        "            (4, 'Diana Prince', 'HR', 60000, '2023-02-28', None),\n",
        "            (5, 'Eve Wilson', 'Sales', 70000, '2022-11-05', 2),\n",
        "            (6, 'Frank Miller', 'Engineering', 85000, '2019-08-12', 1),\n",
        "            (7, 'Grace Lee', 'Marketing', 55000, '2023-01-20', None),\n",
        "            (8, 'Henry Davis', 'Engineering', 72000, '2022-07-30', 1)\n",
        "        ]\n",
        "        cursor.executemany('''\n",
        "        INSERT OR REPLACE INTO employees (id, name, department, salary, hire_date, manager_id)\n",
        "        VALUES (?, ?, ?, ?, ?, ?)''', sample_data)\n",
        "        conn.commit()\n",
        "        conn.close()\n",
        "\n",
        "    def execute_sql(self, sql_query: str) -> Tuple[bool, any]:\n",
        "        try:\n",
        "            conn = sqlite3.connect(self.db_path)\n",
        "            cursor = conn.cursor()\n",
        "            cursor.execute(sql_query)\n",
        "\n",
        "            if sql_query.strip().upper().startswith('SELECT'):\n",
        "                results = cursor.fetchall()\n",
        "                columns = [description[0] for description in cursor.description]\n",
        "                conn.close()\n",
        "                return True, {'columns': columns, 'data': results}\n",
        "            else:\n",
        "                conn.commit()\n",
        "                conn.close()\n",
        "                return True, \"Query executed successfully\"\n",
        "        except Exception as e:\n",
        "            return False, str(e)\n",
        "\n",
        "# ------------------------------\n",
        "# Gradio UI\n",
        "# ------------------------------\n",
        "\n",
        "converter = EnhancedNL2SQLConverter()\n",
        "evaluator = SQLEvaluator()\n",
        "\n",
        "def process_nl_query(nl_query: str) -> Tuple[str, str]:\n",
        "    generated_sql = converter.generate_sql(nl_query)\n",
        "    success, result = evaluator.execute_sql(generated_sql)\n",
        "\n",
        "    if success and isinstance(result, dict):\n",
        "        df = pd.DataFrame(result['data'], columns=result['columns'])\n",
        "        return generated_sql, df.to_markdown(index=False)\n",
        "    elif success:\n",
        "        return generated_sql, result\n",
        "    else:\n",
        "        return generated_sql, f\"Error executing query:\\n{result}\"\n",
        "\n",
        "iface = gr.Interface(\n",
        "    fn=process_nl_query,\n",
        "    inputs=gr.Textbox(label=\"Enter Natural Language Query\"),\n",
        "    outputs=[\n",
        "        gr.Textbox(label=\"Generated SQL Query\"),\n",
        "        gr.Textbox(label=\"Query Output\")\n",
        "    ],\n",
        "    title=\"NL2SQL with Groq + SQLite\",\n",
        "    description=\"Enter a natural language query about the employee database. The app will generate SQL using the Groq API and show the results.\"\n",
        ")\n",
        "\n",
        "if __name__ == \"__main__\":\n",
        "    iface.launch()\n"
      ],
      "metadata": {
        "colab": {
          "base_uri": "https://localhost:8080/",
          "height": 665
        },
        "id": "eHF70Q-prIcn",
        "outputId": "27a41ccd-231e-4d7a-df2d-92199525d459"
      },
      "execution_count": null,
      "outputs": [
        {
          "output_type": "stream",
          "name": "stdout",
          "text": [
            "Using Groq API with model: llama3-70b-8192\n",
            "It looks like you are running Gradio on a hosted a Jupyter notebook. For the Gradio app to work, sharing must be enabled. Automatically setting `share=True` (you can turn this off by setting `share=False` in `launch()` explicitly).\n",
            "\n",
            "Colab notebook detected. To show errors in colab notebook, set debug=True in launch()\n",
            "* Running on public URL: https://5b1e9ac433538b0318.gradio.live\n",
            "\n",
            "This share link expires in 1 week. For free permanent hosting and GPU upgrades, run `gradio deploy` from the terminal in the working directory to deploy to Hugging Face Spaces (https://huggingface.co/spaces)\n"
          ]
        },
        {
          "output_type": "display_data",
          "data": {
            "text/plain": [
              "<IPython.core.display.HTML object>"
            ],
            "text/html": [
              "<div><iframe src=\"https://5b1e9ac433538b0318.gradio.live\" width=\"100%\" height=\"500\" allow=\"autoplay; camera; microphone; clipboard-read; clipboard-write;\" frameborder=\"0\" allowfullscreen></iframe></div>"
            ]
          },
          "metadata": {}
        }
      ]
    },
    {
      "cell_type": "code",
      "source": [],
      "metadata": {
        "id": "A5YM-76lrOdk"
      },
      "execution_count": null,
      "outputs": []
    }
  ]
}